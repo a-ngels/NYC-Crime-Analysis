{
 "cells": [
  {
   "cell_type": "markdown",
   "id": "12f63550",
   "metadata": {},
   "source": [
    "# Introduction"
   ]
  },
  {
   "cell_type": "markdown",
   "id": "3c559dae",
   "metadata": {},
   "source": [
    "### New York City is a large city where crime is a part of daily life. This project will analyze NYPD complaint data which includes felonies, misdemeanors, and violation crimes to provide insights into the patterns and trends of crime across the city. This anaylsis will show: \n",
    "\n",
    "- ### Peak crime times\n",
    "- ### Where higher crime rates occur\n",
    "- ### The type of crimes that are most common, violent, property, etc\n",
    "- ### The demographic groups that experience the most crime\n",
    "\n",
    "### We will need to import the data as a csv, preprocess and normalize the data, use multiple statistical techniques and visualizations to show trends. The results, the meaning of the trends, and potentially what can be done about crime in New York City will be discussed in the conclusion."
   ]
  },
  {
   "cell_type": "markdown",
   "id": "1e9c0abf",
   "metadata": {
    "id": "1e9c0abf"
   },
   "source": [
    "## Import Libraries That Will Be Needed"
   ]
  },
  {
   "cell_type": "code",
   "execution_count": 1,
   "id": "fc828770",
   "metadata": {
    "id": "fc828770"
   },
   "outputs": [],
   "source": [
    "import pandas as pd\n",
    "import numpy as np\n",
    "import matplotlib.pyplot as plt\n",
    "import seaborn as sns\n",
    "\n",
    "pd.set_option(\"display.max_columns\", None)\n",
    "pd.set_option(\"display.max_rows\", 20)"
   ]
  },
  {
   "cell_type": "markdown",
   "id": "7ffd0aa5",
   "metadata": {
    "id": "7ffd0aa5"
   },
   "source": [
    "## Read CSV Data Into Dataframe And Display Rows"
   ]
  },
  {
   "cell_type": "code",
   "execution_count": 2,
   "id": "35a22fba",
   "metadata": {
    "colab": {
     "base_uri": "https://localhost:8080/",
     "height": 452
    },
    "id": "35a22fba",
    "outputId": "10b6f33f-5139-4c5f-b16c-b80c14ba0aa6"
   },
   "outputs": [
    {
     "data": {
      "text/html": [
       "<div>\n",
       "<style scoped>\n",
       "    .dataframe tbody tr th:only-of-type {\n",
       "        vertical-align: middle;\n",
       "    }\n",
       "\n",
       "    .dataframe tbody tr th {\n",
       "        vertical-align: top;\n",
       "    }\n",
       "\n",
       "    .dataframe thead th {\n",
       "        text-align: right;\n",
       "    }\n",
       "</style>\n",
       "<table border=\"1\" class=\"dataframe\">\n",
       "  <thead>\n",
       "    <tr style=\"text-align: right;\">\n",
       "      <th></th>\n",
       "      <th>CMPLNT_NUM</th>\n",
       "      <th>ADDR_PCT_CD</th>\n",
       "      <th>BORO_NM</th>\n",
       "      <th>CMPLNT_FR_DT</th>\n",
       "      <th>CMPLNT_FR_TM</th>\n",
       "      <th>CMPLNT_TO_DT</th>\n",
       "      <th>CMPLNT_TO_TM</th>\n",
       "      <th>CRM_ATPT_CPTD_CD</th>\n",
       "      <th>HADEVELOPT</th>\n",
       "      <th>HOUSING_PSA</th>\n",
       "      <th>JURISDICTION_CODE</th>\n",
       "      <th>JURIS_DESC</th>\n",
       "      <th>KY_CD</th>\n",
       "      <th>LAW_CAT_CD</th>\n",
       "      <th>LOC_OF_OCCUR_DESC</th>\n",
       "      <th>OFNS_DESC</th>\n",
       "      <th>PARKS_NM</th>\n",
       "      <th>PATROL_BORO</th>\n",
       "      <th>PD_CD</th>\n",
       "      <th>PD_DESC</th>\n",
       "      <th>PREM_TYP_DESC</th>\n",
       "      <th>RPT_DT</th>\n",
       "      <th>STATION_NAME</th>\n",
       "      <th>SUSP_AGE_GROUP</th>\n",
       "      <th>SUSP_RACE</th>\n",
       "      <th>SUSP_SEX</th>\n",
       "      <th>TRANSIT_DISTRICT</th>\n",
       "      <th>VIC_AGE_GROUP</th>\n",
       "      <th>VIC_RACE</th>\n",
       "      <th>VIC_SEX</th>\n",
       "      <th>X_COORD_CD</th>\n",
       "      <th>Y_COORD_CD</th>\n",
       "      <th>Latitude</th>\n",
       "      <th>Longitude</th>\n",
       "      <th>Lat_Lon</th>\n",
       "      <th>New Georeferenced Column</th>\n",
       "    </tr>\n",
       "  </thead>\n",
       "  <tbody>\n",
       "    <tr>\n",
       "      <th>0</th>\n",
       "      <td>282536052</td>\n",
       "      <td>79</td>\n",
       "      <td>BROOKLYN</td>\n",
       "      <td>02/15/2024</td>\n",
       "      <td>07:20:00</td>\n",
       "      <td>NaN</td>\n",
       "      <td>(null)</td>\n",
       "      <td>COMPLETED</td>\n",
       "      <td>(null)</td>\n",
       "      <td>NaN</td>\n",
       "      <td>0</td>\n",
       "      <td>N.Y. POLICE DEPT</td>\n",
       "      <td>104</td>\n",
       "      <td>FELONY</td>\n",
       "      <td>INSIDE</td>\n",
       "      <td>RAPE</td>\n",
       "      <td>(null)</td>\n",
       "      <td>PATROL BORO BKLYN NORTH</td>\n",
       "      <td>153.0</td>\n",
       "      <td>RAPE 3</td>\n",
       "      <td>RESIDENCE - APT. HOUSE</td>\n",
       "      <td>02/20/2024</td>\n",
       "      <td>(null)</td>\n",
       "      <td>&lt;18</td>\n",
       "      <td>UNKNOWN</td>\n",
       "      <td>M</td>\n",
       "      <td>NaN</td>\n",
       "      <td>&lt;18</td>\n",
       "      <td>UNKNOWN</td>\n",
       "      <td>F</td>\n",
       "      <td>999496.0</td>\n",
       "      <td>190300.0</td>\n",
       "      <td>40.689001</td>\n",
       "      <td>-73.945027</td>\n",
       "      <td>(40.68900139556, -73.9450265328727)</td>\n",
       "      <td>POINT (-73.9450265328727 40.68900139556)</td>\n",
       "    </tr>\n",
       "    <tr>\n",
       "      <th>1</th>\n",
       "      <td>282805297</td>\n",
       "      <td>42</td>\n",
       "      <td>BRONX</td>\n",
       "      <td>02/25/2024</td>\n",
       "      <td>12:24:00</td>\n",
       "      <td>NaN</td>\n",
       "      <td>(null)</td>\n",
       "      <td>COMPLETED</td>\n",
       "      <td>(null)</td>\n",
       "      <td>NaN</td>\n",
       "      <td>0</td>\n",
       "      <td>N.Y. POLICE DEPT</td>\n",
       "      <td>578</td>\n",
       "      <td>VIOLATION</td>\n",
       "      <td>INSIDE</td>\n",
       "      <td>HARRASSMENT 2</td>\n",
       "      <td>(null)</td>\n",
       "      <td>PATROL BORO BRONX</td>\n",
       "      <td>638.0</td>\n",
       "      <td>HARASSMENT,SUBD 3,4,5</td>\n",
       "      <td>(null)</td>\n",
       "      <td>02/25/2024</td>\n",
       "      <td>(null)</td>\n",
       "      <td>18-24</td>\n",
       "      <td>BLACK</td>\n",
       "      <td>M</td>\n",
       "      <td>NaN</td>\n",
       "      <td>45-64</td>\n",
       "      <td>BLACK</td>\n",
       "      <td>M</td>\n",
       "      <td>1013401.0</td>\n",
       "      <td>241248.0</td>\n",
       "      <td>40.828800</td>\n",
       "      <td>-73.894664</td>\n",
       "      <td>(40.8288, -73.894664)</td>\n",
       "      <td>POINT (-73.894664 40.8288)</td>\n",
       "    </tr>\n",
       "    <tr>\n",
       "      <th>2</th>\n",
       "      <td>280611665</td>\n",
       "      <td>105</td>\n",
       "      <td>QUEENS</td>\n",
       "      <td>01/16/2024</td>\n",
       "      <td>08:00:00</td>\n",
       "      <td>01/16/2024</td>\n",
       "      <td>08:10:00</td>\n",
       "      <td>COMPLETED</td>\n",
       "      <td>(null)</td>\n",
       "      <td>NaN</td>\n",
       "      <td>0</td>\n",
       "      <td>N.Y. POLICE DEPT</td>\n",
       "      <td>578</td>\n",
       "      <td>VIOLATION</td>\n",
       "      <td>FRONT OF</td>\n",
       "      <td>HARRASSMENT 2</td>\n",
       "      <td>(null)</td>\n",
       "      <td>PATROL BORO QUEENS SOUTH</td>\n",
       "      <td>638.0</td>\n",
       "      <td>HARASSMENT,SUBD 3,4,5</td>\n",
       "      <td>(null)</td>\n",
       "      <td>01/16/2024</td>\n",
       "      <td>(null)</td>\n",
       "      <td>65+</td>\n",
       "      <td>WHITE</td>\n",
       "      <td>F</td>\n",
       "      <td>NaN</td>\n",
       "      <td>65+</td>\n",
       "      <td>WHITE</td>\n",
       "      <td>M</td>\n",
       "      <td>1062950.0</td>\n",
       "      <td>205790.0</td>\n",
       "      <td>40.731173</td>\n",
       "      <td>-73.716036</td>\n",
       "      <td>(40.731173, -73.716036)</td>\n",
       "      <td>POINT (-73.716036 40.731173)</td>\n",
       "    </tr>\n",
       "    <tr>\n",
       "      <th>3</th>\n",
       "      <td>284354345</td>\n",
       "      <td>68</td>\n",
       "      <td>BROOKLYN</td>\n",
       "      <td>03/25/2024</td>\n",
       "      <td>11:16:00</td>\n",
       "      <td>03/25/2024</td>\n",
       "      <td>16:00:00</td>\n",
       "      <td>COMPLETED</td>\n",
       "      <td>(null)</td>\n",
       "      <td>NaN</td>\n",
       "      <td>0</td>\n",
       "      <td>N.Y. POLICE DEPT</td>\n",
       "      <td>351</td>\n",
       "      <td>MISDEMEANOR</td>\n",
       "      <td>FRONT OF</td>\n",
       "      <td>CRIMINAL MISCHIEF &amp; RELATED OF</td>\n",
       "      <td>(null)</td>\n",
       "      <td>PATROL BORO BKLYN SOUTH</td>\n",
       "      <td>254.0</td>\n",
       "      <td>MISCHIEF, CRIMINAL 4, OF MOTOR</td>\n",
       "      <td>STREET</td>\n",
       "      <td>03/26/2024</td>\n",
       "      <td>(null)</td>\n",
       "      <td>(null)</td>\n",
       "      <td>(null)</td>\n",
       "      <td>(null)</td>\n",
       "      <td>NaN</td>\n",
       "      <td>45-64</td>\n",
       "      <td>ASIAN / PACIFIC ISLANDER</td>\n",
       "      <td>M</td>\n",
       "      <td>980639.0</td>\n",
       "      <td>170223.0</td>\n",
       "      <td>40.633899</td>\n",
       "      <td>-74.013008</td>\n",
       "      <td>(40.633899, -74.013008)</td>\n",
       "      <td>POINT (-74.013008 40.633899)</td>\n",
       "    </tr>\n",
       "    <tr>\n",
       "      <th>4</th>\n",
       "      <td>282082987</td>\n",
       "      <td>17</td>\n",
       "      <td>MANHATTAN</td>\n",
       "      <td>02/12/2024</td>\n",
       "      <td>12:35:00</td>\n",
       "      <td>02/12/2024</td>\n",
       "      <td>12:40:00</td>\n",
       "      <td>COMPLETED</td>\n",
       "      <td>(null)</td>\n",
       "      <td>NaN</td>\n",
       "      <td>0</td>\n",
       "      <td>N.Y. POLICE DEPT</td>\n",
       "      <td>341</td>\n",
       "      <td>MISDEMEANOR</td>\n",
       "      <td>FRONT OF</td>\n",
       "      <td>PETIT LARCENY</td>\n",
       "      <td>(null)</td>\n",
       "      <td>PATROL BORO MAN SOUTH</td>\n",
       "      <td>339.0</td>\n",
       "      <td>LARCENY,PETIT FROM OPEN AREAS,</td>\n",
       "      <td>STREET</td>\n",
       "      <td>02/12/2024</td>\n",
       "      <td>(null)</td>\n",
       "      <td>25-44</td>\n",
       "      <td>BLACK</td>\n",
       "      <td>F</td>\n",
       "      <td>NaN</td>\n",
       "      <td>UNKNOWN</td>\n",
       "      <td>UNKNOWN</td>\n",
       "      <td>D</td>\n",
       "      <td>992155.0</td>\n",
       "      <td>213560.0</td>\n",
       "      <td>40.752848</td>\n",
       "      <td>-73.971465</td>\n",
       "      <td>(40.752848, -73.971465)</td>\n",
       "      <td>POINT (-73.971465 40.752848)</td>\n",
       "    </tr>\n",
       "  </tbody>\n",
       "</table>\n",
       "</div>"
      ],
      "text/plain": [
       "  CMPLNT_NUM  ADDR_PCT_CD    BORO_NM CMPLNT_FR_DT CMPLNT_FR_TM CMPLNT_TO_DT  \\\n",
       "0  282536052           79   BROOKLYN   02/15/2024     07:20:00          NaN   \n",
       "1  282805297           42      BRONX   02/25/2024     12:24:00          NaN   \n",
       "2  280611665          105     QUEENS   01/16/2024     08:00:00   01/16/2024   \n",
       "3  284354345           68   BROOKLYN   03/25/2024     11:16:00   03/25/2024   \n",
       "4  282082987           17  MANHATTAN   02/12/2024     12:35:00   02/12/2024   \n",
       "\n",
       "  CMPLNT_TO_TM CRM_ATPT_CPTD_CD HADEVELOPT  HOUSING_PSA  JURISDICTION_CODE  \\\n",
       "0       (null)        COMPLETED     (null)          NaN                  0   \n",
       "1       (null)        COMPLETED     (null)          NaN                  0   \n",
       "2     08:10:00        COMPLETED     (null)          NaN                  0   \n",
       "3     16:00:00        COMPLETED     (null)          NaN                  0   \n",
       "4     12:40:00        COMPLETED     (null)          NaN                  0   \n",
       "\n",
       "         JURIS_DESC  KY_CD   LAW_CAT_CD LOC_OF_OCCUR_DESC  \\\n",
       "0  N.Y. POLICE DEPT    104       FELONY            INSIDE   \n",
       "1  N.Y. POLICE DEPT    578    VIOLATION            INSIDE   \n",
       "2  N.Y. POLICE DEPT    578    VIOLATION          FRONT OF   \n",
       "3  N.Y. POLICE DEPT    351  MISDEMEANOR          FRONT OF   \n",
       "4  N.Y. POLICE DEPT    341  MISDEMEANOR          FRONT OF   \n",
       "\n",
       "                        OFNS_DESC PARKS_NM               PATROL_BORO  PD_CD  \\\n",
       "0                            RAPE   (null)   PATROL BORO BKLYN NORTH  153.0   \n",
       "1                   HARRASSMENT 2   (null)         PATROL BORO BRONX  638.0   \n",
       "2                   HARRASSMENT 2   (null)  PATROL BORO QUEENS SOUTH  638.0   \n",
       "3  CRIMINAL MISCHIEF & RELATED OF   (null)   PATROL BORO BKLYN SOUTH  254.0   \n",
       "4                   PETIT LARCENY   (null)     PATROL BORO MAN SOUTH  339.0   \n",
       "\n",
       "                          PD_DESC           PREM_TYP_DESC      RPT_DT  \\\n",
       "0                          RAPE 3  RESIDENCE - APT. HOUSE  02/20/2024   \n",
       "1           HARASSMENT,SUBD 3,4,5                  (null)  02/25/2024   \n",
       "2           HARASSMENT,SUBD 3,4,5                  (null)  01/16/2024   \n",
       "3  MISCHIEF, CRIMINAL 4, OF MOTOR                  STREET  03/26/2024   \n",
       "4  LARCENY,PETIT FROM OPEN AREAS,                  STREET  02/12/2024   \n",
       "\n",
       "  STATION_NAME SUSP_AGE_GROUP SUSP_RACE SUSP_SEX  TRANSIT_DISTRICT  \\\n",
       "0       (null)            <18   UNKNOWN        M               NaN   \n",
       "1       (null)          18-24     BLACK        M               NaN   \n",
       "2       (null)            65+     WHITE        F               NaN   \n",
       "3       (null)         (null)    (null)   (null)               NaN   \n",
       "4       (null)          25-44     BLACK        F               NaN   \n",
       "\n",
       "  VIC_AGE_GROUP                  VIC_RACE VIC_SEX  X_COORD_CD  Y_COORD_CD  \\\n",
       "0           <18                   UNKNOWN       F    999496.0    190300.0   \n",
       "1         45-64                     BLACK       M   1013401.0    241248.0   \n",
       "2           65+                     WHITE       M   1062950.0    205790.0   \n",
       "3         45-64  ASIAN / PACIFIC ISLANDER       M    980639.0    170223.0   \n",
       "4       UNKNOWN                   UNKNOWN       D    992155.0    213560.0   \n",
       "\n",
       "    Latitude  Longitude                              Lat_Lon  \\\n",
       "0  40.689001 -73.945027  (40.68900139556, -73.9450265328727)   \n",
       "1  40.828800 -73.894664                (40.8288, -73.894664)   \n",
       "2  40.731173 -73.716036              (40.731173, -73.716036)   \n",
       "3  40.633899 -74.013008              (40.633899, -74.013008)   \n",
       "4  40.752848 -73.971465              (40.752848, -73.971465)   \n",
       "\n",
       "                   New Georeferenced Column  \n",
       "0  POINT (-73.9450265328727 40.68900139556)  \n",
       "1                POINT (-73.894664 40.8288)  \n",
       "2              POINT (-73.716036 40.731173)  \n",
       "3              POINT (-74.013008 40.633899)  \n",
       "4              POINT (-73.971465 40.752848)  "
      ]
     },
     "execution_count": 2,
     "metadata": {},
     "output_type": "execute_result"
    }
   ],
   "source": [
    "# read the csv using pd csv indicating the delimiter is ',' and show sample of rows\n",
    "df = pd.read_csv(\"NYPD_Complaint_Data.csv\", delimiter=\",\", low_memory=False)\n",
    "df.head(5)"
   ]
  },
  {
   "cell_type": "markdown",
   "id": "5d3c407a",
   "metadata": {
    "id": "5d3c407a"
   },
   "source": [
    "## Update DF By Making Column Names More Descriptive"
   ]
  },
  {
   "cell_type": "code",
   "execution_count": 3,
   "id": "4627270c",
   "metadata": {
    "colab": {
     "base_uri": "https://localhost:8080/",
     "height": 452
    },
    "id": "4627270c",
    "outputId": "289e3ec1-4b27-495f-cd88-eb39c35fbb16"
   },
   "outputs": [
    {
     "data": {
      "text/html": [
       "<div>\n",
       "<style scoped>\n",
       "    .dataframe tbody tr th:only-of-type {\n",
       "        vertical-align: middle;\n",
       "    }\n",
       "\n",
       "    .dataframe tbody tr th {\n",
       "        vertical-align: top;\n",
       "    }\n",
       "\n",
       "    .dataframe thead th {\n",
       "        text-align: right;\n",
       "    }\n",
       "</style>\n",
       "<table border=\"1\" class=\"dataframe\">\n",
       "  <thead>\n",
       "    <tr style=\"text-align: right;\">\n",
       "      <th></th>\n",
       "      <th>COMPLAINT_ID</th>\n",
       "      <th>PRECINCT_NUM</th>\n",
       "      <th>BOROUGH</th>\n",
       "      <th>COMPLAINT_START_DATE</th>\n",
       "      <th>COMPLAINT_START_TIME</th>\n",
       "      <th>COMPLAINT_END_DATE</th>\n",
       "      <th>COMPLAINT_END_TIME</th>\n",
       "      <th>CRIME_STATUS</th>\n",
       "      <th>HOUSING_DEV_NAME</th>\n",
       "      <th>HOUSING_PSA</th>\n",
       "      <th>JURISDICTION_CODE</th>\n",
       "      <th>JURIS_DESC</th>\n",
       "      <th>OFFENSE_CODE</th>\n",
       "      <th>OFFENSE_LEVEL</th>\n",
       "      <th>LOCATION_TYPE</th>\n",
       "      <th>OFNS_DESC</th>\n",
       "      <th>PARKS_NM</th>\n",
       "      <th>PATROL_BORO</th>\n",
       "      <th>PD_CODE</th>\n",
       "      <th>PD_DESC</th>\n",
       "      <th>PREM_TYP_DESC</th>\n",
       "      <th>REPORT_DATE</th>\n",
       "      <th>STATION_NAME</th>\n",
       "      <th>SUSP_AGE_GROUP</th>\n",
       "      <th>SUSP_RACE</th>\n",
       "      <th>SUSP_SEX</th>\n",
       "      <th>TRANSIT_DISTRICT</th>\n",
       "      <th>VIC_AGE_GROUP</th>\n",
       "      <th>VIC_RACE</th>\n",
       "      <th>VIC_SEX</th>\n",
       "      <th>X_COORD_CD</th>\n",
       "      <th>Y_COORD_CD</th>\n",
       "      <th>Latitude</th>\n",
       "      <th>Longitude</th>\n",
       "      <th>Lat_Lon</th>\n",
       "      <th>New Georeferenced Column</th>\n",
       "    </tr>\n",
       "  </thead>\n",
       "  <tbody>\n",
       "    <tr>\n",
       "      <th>0</th>\n",
       "      <td>282536052</td>\n",
       "      <td>79</td>\n",
       "      <td>BROOKLYN</td>\n",
       "      <td>02/15/2024</td>\n",
       "      <td>07:20:00</td>\n",
       "      <td>NaN</td>\n",
       "      <td>(null)</td>\n",
       "      <td>COMPLETED</td>\n",
       "      <td>(null)</td>\n",
       "      <td>NaN</td>\n",
       "      <td>0</td>\n",
       "      <td>N.Y. POLICE DEPT</td>\n",
       "      <td>104</td>\n",
       "      <td>FELONY</td>\n",
       "      <td>INSIDE</td>\n",
       "      <td>RAPE</td>\n",
       "      <td>(null)</td>\n",
       "      <td>PATROL BORO BKLYN NORTH</td>\n",
       "      <td>153.0</td>\n",
       "      <td>RAPE 3</td>\n",
       "      <td>RESIDENCE - APT. HOUSE</td>\n",
       "      <td>02/20/2024</td>\n",
       "      <td>(null)</td>\n",
       "      <td>&lt;18</td>\n",
       "      <td>UNKNOWN</td>\n",
       "      <td>M</td>\n",
       "      <td>NaN</td>\n",
       "      <td>&lt;18</td>\n",
       "      <td>UNKNOWN</td>\n",
       "      <td>F</td>\n",
       "      <td>999496.0</td>\n",
       "      <td>190300.0</td>\n",
       "      <td>40.689001</td>\n",
       "      <td>-73.945027</td>\n",
       "      <td>(40.68900139556, -73.9450265328727)</td>\n",
       "      <td>POINT (-73.9450265328727 40.68900139556)</td>\n",
       "    </tr>\n",
       "    <tr>\n",
       "      <th>1</th>\n",
       "      <td>282805297</td>\n",
       "      <td>42</td>\n",
       "      <td>BRONX</td>\n",
       "      <td>02/25/2024</td>\n",
       "      <td>12:24:00</td>\n",
       "      <td>NaN</td>\n",
       "      <td>(null)</td>\n",
       "      <td>COMPLETED</td>\n",
       "      <td>(null)</td>\n",
       "      <td>NaN</td>\n",
       "      <td>0</td>\n",
       "      <td>N.Y. POLICE DEPT</td>\n",
       "      <td>578</td>\n",
       "      <td>VIOLATION</td>\n",
       "      <td>INSIDE</td>\n",
       "      <td>HARRASSMENT 2</td>\n",
       "      <td>(null)</td>\n",
       "      <td>PATROL BORO BRONX</td>\n",
       "      <td>638.0</td>\n",
       "      <td>HARASSMENT,SUBD 3,4,5</td>\n",
       "      <td>(null)</td>\n",
       "      <td>02/25/2024</td>\n",
       "      <td>(null)</td>\n",
       "      <td>18-24</td>\n",
       "      <td>BLACK</td>\n",
       "      <td>M</td>\n",
       "      <td>NaN</td>\n",
       "      <td>45-64</td>\n",
       "      <td>BLACK</td>\n",
       "      <td>M</td>\n",
       "      <td>1013401.0</td>\n",
       "      <td>241248.0</td>\n",
       "      <td>40.828800</td>\n",
       "      <td>-73.894664</td>\n",
       "      <td>(40.8288, -73.894664)</td>\n",
       "      <td>POINT (-73.894664 40.8288)</td>\n",
       "    </tr>\n",
       "    <tr>\n",
       "      <th>2</th>\n",
       "      <td>280611665</td>\n",
       "      <td>105</td>\n",
       "      <td>QUEENS</td>\n",
       "      <td>01/16/2024</td>\n",
       "      <td>08:00:00</td>\n",
       "      <td>01/16/2024</td>\n",
       "      <td>08:10:00</td>\n",
       "      <td>COMPLETED</td>\n",
       "      <td>(null)</td>\n",
       "      <td>NaN</td>\n",
       "      <td>0</td>\n",
       "      <td>N.Y. POLICE DEPT</td>\n",
       "      <td>578</td>\n",
       "      <td>VIOLATION</td>\n",
       "      <td>FRONT OF</td>\n",
       "      <td>HARRASSMENT 2</td>\n",
       "      <td>(null)</td>\n",
       "      <td>PATROL BORO QUEENS SOUTH</td>\n",
       "      <td>638.0</td>\n",
       "      <td>HARASSMENT,SUBD 3,4,5</td>\n",
       "      <td>(null)</td>\n",
       "      <td>01/16/2024</td>\n",
       "      <td>(null)</td>\n",
       "      <td>65+</td>\n",
       "      <td>WHITE</td>\n",
       "      <td>F</td>\n",
       "      <td>NaN</td>\n",
       "      <td>65+</td>\n",
       "      <td>WHITE</td>\n",
       "      <td>M</td>\n",
       "      <td>1062950.0</td>\n",
       "      <td>205790.0</td>\n",
       "      <td>40.731173</td>\n",
       "      <td>-73.716036</td>\n",
       "      <td>(40.731173, -73.716036)</td>\n",
       "      <td>POINT (-73.716036 40.731173)</td>\n",
       "    </tr>\n",
       "    <tr>\n",
       "      <th>3</th>\n",
       "      <td>284354345</td>\n",
       "      <td>68</td>\n",
       "      <td>BROOKLYN</td>\n",
       "      <td>03/25/2024</td>\n",
       "      <td>11:16:00</td>\n",
       "      <td>03/25/2024</td>\n",
       "      <td>16:00:00</td>\n",
       "      <td>COMPLETED</td>\n",
       "      <td>(null)</td>\n",
       "      <td>NaN</td>\n",
       "      <td>0</td>\n",
       "      <td>N.Y. POLICE DEPT</td>\n",
       "      <td>351</td>\n",
       "      <td>MISDEMEANOR</td>\n",
       "      <td>FRONT OF</td>\n",
       "      <td>CRIMINAL MISCHIEF &amp; RELATED OF</td>\n",
       "      <td>(null)</td>\n",
       "      <td>PATROL BORO BKLYN SOUTH</td>\n",
       "      <td>254.0</td>\n",
       "      <td>MISCHIEF, CRIMINAL 4, OF MOTOR</td>\n",
       "      <td>STREET</td>\n",
       "      <td>03/26/2024</td>\n",
       "      <td>(null)</td>\n",
       "      <td>(null)</td>\n",
       "      <td>(null)</td>\n",
       "      <td>(null)</td>\n",
       "      <td>NaN</td>\n",
       "      <td>45-64</td>\n",
       "      <td>ASIAN / PACIFIC ISLANDER</td>\n",
       "      <td>M</td>\n",
       "      <td>980639.0</td>\n",
       "      <td>170223.0</td>\n",
       "      <td>40.633899</td>\n",
       "      <td>-74.013008</td>\n",
       "      <td>(40.633899, -74.013008)</td>\n",
       "      <td>POINT (-74.013008 40.633899)</td>\n",
       "    </tr>\n",
       "    <tr>\n",
       "      <th>4</th>\n",
       "      <td>282082987</td>\n",
       "      <td>17</td>\n",
       "      <td>MANHATTAN</td>\n",
       "      <td>02/12/2024</td>\n",
       "      <td>12:35:00</td>\n",
       "      <td>02/12/2024</td>\n",
       "      <td>12:40:00</td>\n",
       "      <td>COMPLETED</td>\n",
       "      <td>(null)</td>\n",
       "      <td>NaN</td>\n",
       "      <td>0</td>\n",
       "      <td>N.Y. POLICE DEPT</td>\n",
       "      <td>341</td>\n",
       "      <td>MISDEMEANOR</td>\n",
       "      <td>FRONT OF</td>\n",
       "      <td>PETIT LARCENY</td>\n",
       "      <td>(null)</td>\n",
       "      <td>PATROL BORO MAN SOUTH</td>\n",
       "      <td>339.0</td>\n",
       "      <td>LARCENY,PETIT FROM OPEN AREAS,</td>\n",
       "      <td>STREET</td>\n",
       "      <td>02/12/2024</td>\n",
       "      <td>(null)</td>\n",
       "      <td>25-44</td>\n",
       "      <td>BLACK</td>\n",
       "      <td>F</td>\n",
       "      <td>NaN</td>\n",
       "      <td>UNKNOWN</td>\n",
       "      <td>UNKNOWN</td>\n",
       "      <td>D</td>\n",
       "      <td>992155.0</td>\n",
       "      <td>213560.0</td>\n",
       "      <td>40.752848</td>\n",
       "      <td>-73.971465</td>\n",
       "      <td>(40.752848, -73.971465)</td>\n",
       "      <td>POINT (-73.971465 40.752848)</td>\n",
       "    </tr>\n",
       "  </tbody>\n",
       "</table>\n",
       "</div>"
      ],
      "text/plain": [
       "  COMPLAINT_ID  PRECINCT_NUM    BOROUGH COMPLAINT_START_DATE  \\\n",
       "0    282536052            79   BROOKLYN           02/15/2024   \n",
       "1    282805297            42      BRONX           02/25/2024   \n",
       "2    280611665           105     QUEENS           01/16/2024   \n",
       "3    284354345            68   BROOKLYN           03/25/2024   \n",
       "4    282082987            17  MANHATTAN           02/12/2024   \n",
       "\n",
       "  COMPLAINT_START_TIME COMPLAINT_END_DATE COMPLAINT_END_TIME CRIME_STATUS  \\\n",
       "0             07:20:00                NaN             (null)    COMPLETED   \n",
       "1             12:24:00                NaN             (null)    COMPLETED   \n",
       "2             08:00:00         01/16/2024           08:10:00    COMPLETED   \n",
       "3             11:16:00         03/25/2024           16:00:00    COMPLETED   \n",
       "4             12:35:00         02/12/2024           12:40:00    COMPLETED   \n",
       "\n",
       "  HOUSING_DEV_NAME  HOUSING_PSA  JURISDICTION_CODE        JURIS_DESC  \\\n",
       "0           (null)          NaN                  0  N.Y. POLICE DEPT   \n",
       "1           (null)          NaN                  0  N.Y. POLICE DEPT   \n",
       "2           (null)          NaN                  0  N.Y. POLICE DEPT   \n",
       "3           (null)          NaN                  0  N.Y. POLICE DEPT   \n",
       "4           (null)          NaN                  0  N.Y. POLICE DEPT   \n",
       "\n",
       "   OFFENSE_CODE OFFENSE_LEVEL LOCATION_TYPE                       OFNS_DESC  \\\n",
       "0           104        FELONY        INSIDE                            RAPE   \n",
       "1           578     VIOLATION        INSIDE                   HARRASSMENT 2   \n",
       "2           578     VIOLATION      FRONT OF                   HARRASSMENT 2   \n",
       "3           351   MISDEMEANOR      FRONT OF  CRIMINAL MISCHIEF & RELATED OF   \n",
       "4           341   MISDEMEANOR      FRONT OF                   PETIT LARCENY   \n",
       "\n",
       "  PARKS_NM               PATROL_BORO  PD_CODE                         PD_DESC  \\\n",
       "0   (null)   PATROL BORO BKLYN NORTH    153.0                          RAPE 3   \n",
       "1   (null)         PATROL BORO BRONX    638.0           HARASSMENT,SUBD 3,4,5   \n",
       "2   (null)  PATROL BORO QUEENS SOUTH    638.0           HARASSMENT,SUBD 3,4,5   \n",
       "3   (null)   PATROL BORO BKLYN SOUTH    254.0  MISCHIEF, CRIMINAL 4, OF MOTOR   \n",
       "4   (null)     PATROL BORO MAN SOUTH    339.0  LARCENY,PETIT FROM OPEN AREAS,   \n",
       "\n",
       "            PREM_TYP_DESC REPORT_DATE STATION_NAME SUSP_AGE_GROUP SUSP_RACE  \\\n",
       "0  RESIDENCE - APT. HOUSE  02/20/2024       (null)            <18   UNKNOWN   \n",
       "1                  (null)  02/25/2024       (null)          18-24     BLACK   \n",
       "2                  (null)  01/16/2024       (null)            65+     WHITE   \n",
       "3                  STREET  03/26/2024       (null)         (null)    (null)   \n",
       "4                  STREET  02/12/2024       (null)          25-44     BLACK   \n",
       "\n",
       "  SUSP_SEX  TRANSIT_DISTRICT VIC_AGE_GROUP                  VIC_RACE VIC_SEX  \\\n",
       "0        M               NaN           <18                   UNKNOWN       F   \n",
       "1        M               NaN         45-64                     BLACK       M   \n",
       "2        F               NaN           65+                     WHITE       M   \n",
       "3   (null)               NaN         45-64  ASIAN / PACIFIC ISLANDER       M   \n",
       "4        F               NaN       UNKNOWN                   UNKNOWN       D   \n",
       "\n",
       "   X_COORD_CD  Y_COORD_CD   Latitude  Longitude  \\\n",
       "0    999496.0    190300.0  40.689001 -73.945027   \n",
       "1   1013401.0    241248.0  40.828800 -73.894664   \n",
       "2   1062950.0    205790.0  40.731173 -73.716036   \n",
       "3    980639.0    170223.0  40.633899 -74.013008   \n",
       "4    992155.0    213560.0  40.752848 -73.971465   \n",
       "\n",
       "                               Lat_Lon  \\\n",
       "0  (40.68900139556, -73.9450265328727)   \n",
       "1                (40.8288, -73.894664)   \n",
       "2              (40.731173, -73.716036)   \n",
       "3              (40.633899, -74.013008)   \n",
       "4              (40.752848, -73.971465)   \n",
       "\n",
       "                   New Georeferenced Column  \n",
       "0  POINT (-73.9450265328727 40.68900139556)  \n",
       "1                POINT (-73.894664 40.8288)  \n",
       "2              POINT (-73.716036 40.731173)  \n",
       "3              POINT (-74.013008 40.633899)  \n",
       "4              POINT (-73.971465 40.752848)  "
      ]
     },
     "execution_count": 3,
     "metadata": {},
     "output_type": "execute_result"
    }
   ],
   "source": [
    "df.rename(columns={\n",
    "    \"CMPLNT_NUM\": \"COMPLAINT_ID\",\n",
    "    \"ADDR_PCT_CD\": \"PRECINCT_NUM\",\n",
    "    \"BORO_NM\": \"BOROUGH\",\n",
    "    \"CMPLNT_FR_DT\": \"COMPLAINT_START_DATE\",\n",
    "    \"CMPLNT_FR_TM\": \"COMPLAINT_START_TIME\",\n",
    "    \"CMPLNT_TO_DT\": \"COMPLAINT_END_DATE\",\n",
    "    \"CMPLNT_TO_TM\": \"COMPLAINT_END_TIME\",\n",
    "    \"CRM_ATPT_CPTD_CD\": \"CRIME_STATUS\",\n",
    "    \"HADEVELOPT\": \"HOUSING_DEV_NAME\",\n",
    "    \"KY_CD\": \"OFFENSE_CODE\",\n",
    "    \"LAW_CAT_CD\": \"OFFENSE_LEVEL\",\n",
    "    \"LOC_OF_OCCUR_DESC\": \"LOCATION_TYPE\",\n",
    "    \"PD_CD\": \"PD_CODE\",\n",
    "    \"RPT_DT\": \"REPORT_DATE\"\n",
    "}, inplace=True)\n",
    "df.head(5)"
   ]
  },
  {
   "cell_type": "markdown",
   "id": "ef975545",
   "metadata": {
    "id": "ef975545"
   },
   "source": [
    "## Pre-processing Of Data"
   ]
  },
  {
   "cell_type": "markdown",
   "id": "cf91f826",
   "metadata": {
    "id": "cf91f826"
   },
   "source": [
    "#### check unique values in \"PRECINCT_NUM\", replace if there are nulls\n"
   ]
  },
  {
   "cell_type": "code",
   "execution_count": 4,
   "id": "31d5e352",
   "metadata": {
    "colab": {
     "base_uri": "https://localhost:8080/"
    },
    "id": "31d5e352",
    "outputId": "3ee20ecb-9673-4700-eef4-547a25d17d8b"
   },
   "outputs": [
    {
     "name": "stdout",
     "output_type": "stream",
     "text": [
      "Before replace: [ 79  42 105  68  17 120  43  70  62  25  14   9 121   1  78  20  84 122\n",
      "   5  13  61 123  72  19  18  71  10  76  66   7  60  77  24 108  88  67\n",
      "  90  94   6  30  26  22  28  46  23  44  32  40  73 114 103 104 109  75\n",
      "  52 107  47  48  49  50 101 106  69 113 110  81  45  41  33  83  34  63\n",
      " 100 115 102 112 111]\n"
     ]
    }
   ],
   "source": [
    "print(\"Before replace:\", df[\"PRECINCT_NUM\"].unique())"
   ]
  },
  {
   "cell_type": "markdown",
   "id": "ed3657ce",
   "metadata": {
    "id": "ed3657ce"
   },
   "source": [
    "#### check unique values in \"BOROUGHS\", replace if there are nulls"
   ]
  },
  {
   "cell_type": "code",
   "execution_count": 5,
   "id": "c2f9f150",
   "metadata": {
    "colab": {
     "base_uri": "https://localhost:8080/"
    },
    "id": "c2f9f150",
    "outputId": "0bf209cc-923a-43c7-a111-6b96329743d0"
   },
   "outputs": [
    {
     "name": "stdout",
     "output_type": "stream",
     "text": [
      "Before replace: ['BROOKLYN' 'BRONX' 'QUEENS' 'MANHATTAN' 'STATEN ISLAND' '(null)']\n",
      "\n",
      "After replace: ['BROOKLYN' 'BRONX' 'QUEENS' 'MANHATTAN' 'STATEN ISLAND' 'No Info']\n"
     ]
    }
   ],
   "source": [
    "print(\"Before replace:\", df[\"BOROUGH\"].unique())\n",
    "\n",
    "df['BOROUGH'].replace('(null)', 'No Info', inplace=True)\n",
    "\n",
    "print(\"\\nAfter replace:\", df[\"BOROUGH\"].unique())"
   ]
  },
  {
   "cell_type": "markdown",
   "id": "b604d79a",
   "metadata": {
    "id": "b604d79a"
   },
   "source": [
    "#### check unique values in \"OFFENSE_LEVEL\", replace if there are nulls"
   ]
  },
  {
   "cell_type": "code",
   "execution_count": 6,
   "id": "3343ceec",
   "metadata": {
    "colab": {
     "base_uri": "https://localhost:8080/"
    },
    "id": "3343ceec",
    "outputId": "d04bb9a8-a21b-4829-c7d3-0f71b4907407"
   },
   "outputs": [
    {
     "name": "stdout",
     "output_type": "stream",
     "text": [
      "Before replace: ['FELONY' 'VIOLATION' 'MISDEMEANOR']\n"
     ]
    }
   ],
   "source": [
    "print(\"Before replace:\", df[\"OFFENSE_LEVEL\"].unique())"
   ]
  },
  {
   "cell_type": "markdown",
   "id": "8d245e51",
   "metadata": {
    "id": "8d245e51"
   },
   "source": [
    "#### check unique values in \"VIC_AGE_GROUP\", replace invalid data"
   ]
  },
  {
   "cell_type": "code",
   "execution_count": 7,
   "id": "899dfd38",
   "metadata": {
    "colab": {
     "base_uri": "https://localhost:8080/"
    },
    "id": "899dfd38",
    "outputId": "98eb7330-27e1-41df-c174-6f75ac4f03ca"
   },
   "outputs": [
    {
     "name": "stdout",
     "output_type": "stream",
     "text": [
      "Before replace: ['<18' '45-64' '65+' 'UNKNOWN' '25-44' '18-24' '-28' '-958' '966' '-951'\n",
      " '928' '953' '-1' '1023' '934' '-924' '963']\n",
      "\n",
      "After replace: ['<18' '45-64' '65+' 'UNKNOWN' '25-44' '18-24']\n"
     ]
    }
   ],
   "source": [
    "print(\"Before replace:\", df[\"VIC_AGE_GROUP\"].unique())\n",
    "\n",
    "invalid_ages = [\"-28\", \"-958\", \"966\", \"-951\", \"928\", \"953\", \"-1\", \"1023\", \"934\", \"-924\", \"963\"]\n",
    "df['VIC_AGE_GROUP'].replace(invalid_ages, \"UNKNOWN\", inplace=True)\n",
    "\n",
    "print(\"\\nAfter replace:\", df[\"VIC_AGE_GROUP\"].unique())"
   ]
  },
  {
   "cell_type": "markdown",
   "id": "039a7de2",
   "metadata": {
    "id": "039a7de2"
   },
   "source": [
    "#### check unique values in \"VIC_RACE\", replace invalid data"
   ]
  },
  {
   "cell_type": "code",
   "execution_count": 8,
   "id": "cee6a10d",
   "metadata": {
    "colab": {
     "base_uri": "https://localhost:8080/"
    },
    "id": "cee6a10d",
    "outputId": "a57e01f8-45d6-46a7-94a7-c9ae89728794"
   },
   "outputs": [
    {
     "name": "stdout",
     "output_type": "stream",
     "text": [
      "Before replace: ['UNKNOWN' 'BLACK' 'WHITE' 'ASIAN / PACIFIC ISLANDER' 'WHITE HISPANIC'\n",
      " 'BLACK HISPANIC' 'AMERICAN INDIAN/ALASKAN NATIVE']\n"
     ]
    }
   ],
   "source": [
    "print(\"Before replace:\", df[\"VIC_RACE\"].unique())"
   ]
  },
  {
   "cell_type": "markdown",
   "id": "3611406b",
   "metadata": {
    "id": "3611406b"
   },
   "source": [
    "#### check unique values in \"VIC_SEX\", replace invalid data"
   ]
  },
  {
   "cell_type": "code",
   "execution_count": 9,
   "id": "548af973",
   "metadata": {
    "colab": {
     "base_uri": "https://localhost:8080/"
    },
    "id": "548af973",
    "outputId": "f69cd153-16f0-4951-c228-c91c3193edf4",
    "scrolled": true
   },
   "outputs": [
    {
     "name": "stdout",
     "output_type": "stream",
     "text": [
      "Before replace: ['F' 'M' 'D' 'L' 'E']\n",
      "\n",
      "Based on dataset notes, 'F' is Female, 'M' is Male, 'D' is Buisness/Organization, 'E' is the People of the State of New York and 'L' is Unspecified\n",
      "\n",
      "After replace: ['F' 'M' 'D' 'NA' 'E']\n"
     ]
    }
   ],
   "source": [
    "print(\"Before replace:\", df[\"VIC_SEX\"].unique())\n",
    "print(\"\\nBased on dataset notes, 'F' is Female, 'M' is Male, 'D' is Buisness/Organization, 'E' is the People of the State of New York and 'L' is Unspecified\\n\")\n",
    "\n",
    "df[\"VIC_SEX\"].replace(\"L\", \"NA\", inplace=True)\n",
    "\n",
    "print(\"After replace:\", df[\"VIC_SEX\"].unique())"
   ]
  },
  {
   "cell_type": "markdown",
   "id": "4e253a20",
   "metadata": {
    "id": "4e253a20"
   },
   "source": [
    "#### replace nan values in longitude and latitude"
   ]
  },
  {
   "cell_type": "code",
   "execution_count": 11,
   "id": "f4e0c5c1",
   "metadata": {
    "id": "f4e0c5c1"
   },
   "outputs": [],
   "source": [
    "df[\"Latitude\"] = df[\"Latitude\"].fillna(\"NA\")\n",
    "df[\"Longitude\"] = df[\"Longitude\"].fillna(\"NA\")"
   ]
  },
  {
   "cell_type": "markdown",
   "id": "3dfde0c4",
   "metadata": {
    "id": "3dfde0c4"
   },
   "source": [
    "## Create Dataframes To Address The Objectives Stated In Proposal"
   ]
  },
  {
   "cell_type": "markdown",
   "id": "74f94785",
   "metadata": {
    "id": "74f94785"
   },
   "source": [
    "#### Dataframe To Analyze When Crimes In NYC Take Place"
   ]
  },
  {
   "cell_type": "code",
   "execution_count": 12,
   "id": "8d946c75",
   "metadata": {
    "colab": {
     "base_uri": "https://localhost:8080/",
     "height": 206
    },
    "id": "8d946c75",
    "outputId": "e84da84f-558e-4e06-af20-6db6d5310e2f",
    "scrolled": true
   },
   "outputs": [
    {
     "data": {
      "text/html": [
       "<div>\n",
       "<style scoped>\n",
       "    .dataframe tbody tr th:only-of-type {\n",
       "        vertical-align: middle;\n",
       "    }\n",
       "\n",
       "    .dataframe tbody tr th {\n",
       "        vertical-align: top;\n",
       "    }\n",
       "\n",
       "    .dataframe thead th {\n",
       "        text-align: right;\n",
       "    }\n",
       "</style>\n",
       "<table border=\"1\" class=\"dataframe\">\n",
       "  <thead>\n",
       "    <tr style=\"text-align: right;\">\n",
       "      <th></th>\n",
       "      <th>COMPLAINT_START_DATE</th>\n",
       "      <th>COMPLAINT_START_TIME</th>\n",
       "      <th>OFFENSE_LEVEL</th>\n",
       "    </tr>\n",
       "  </thead>\n",
       "  <tbody>\n",
       "    <tr>\n",
       "      <th>0</th>\n",
       "      <td>02/15/2024</td>\n",
       "      <td>07:20:00</td>\n",
       "      <td>FELONY</td>\n",
       "    </tr>\n",
       "    <tr>\n",
       "      <th>1</th>\n",
       "      <td>02/25/2024</td>\n",
       "      <td>12:24:00</td>\n",
       "      <td>VIOLATION</td>\n",
       "    </tr>\n",
       "    <tr>\n",
       "      <th>2</th>\n",
       "      <td>01/16/2024</td>\n",
       "      <td>08:00:00</td>\n",
       "      <td>VIOLATION</td>\n",
       "    </tr>\n",
       "    <tr>\n",
       "      <th>3</th>\n",
       "      <td>03/25/2024</td>\n",
       "      <td>11:16:00</td>\n",
       "      <td>MISDEMEANOR</td>\n",
       "    </tr>\n",
       "    <tr>\n",
       "      <th>4</th>\n",
       "      <td>02/12/2024</td>\n",
       "      <td>12:35:00</td>\n",
       "      <td>MISDEMEANOR</td>\n",
       "    </tr>\n",
       "  </tbody>\n",
       "</table>\n",
       "</div>"
      ],
      "text/plain": [
       "  COMPLAINT_START_DATE COMPLAINT_START_TIME OFFENSE_LEVEL\n",
       "0           02/15/2024             07:20:00        FELONY\n",
       "1           02/25/2024             12:24:00     VIOLATION\n",
       "2           01/16/2024             08:00:00     VIOLATION\n",
       "3           03/25/2024             11:16:00   MISDEMEANOR\n",
       "4           02/12/2024             12:35:00   MISDEMEANOR"
      ]
     },
     "execution_count": 12,
     "metadata": {},
     "output_type": "execute_result"
    }
   ],
   "source": [
    "Location_Time_DF = df[[\"COMPLAINT_START_DATE\", \"COMPLAINT_START_TIME\", \"OFFENSE_LEVEL\"]].copy()\n",
    "Location_Time_DF.head()"
   ]
  },
  {
   "cell_type": "markdown",
   "id": "fdfae034",
   "metadata": {
    "id": "fdfae034"
   },
   "source": [
    "#### Dataframe To Examine Which Neighborhoods/Boroughs Experience A Higher Crime Rate"
   ]
  },
  {
   "cell_type": "code",
   "execution_count": 13,
   "id": "f17e6e90",
   "metadata": {
    "colab": {
     "base_uri": "https://localhost:8080/",
     "height": 206
    },
    "id": "f17e6e90",
    "outputId": "f1c10ed0-8437-4db5-8d30-7533c521dc9b"
   },
   "outputs": [
    {
     "data": {
      "text/html": [
       "<div>\n",
       "<style scoped>\n",
       "    .dataframe tbody tr th:only-of-type {\n",
       "        vertical-align: middle;\n",
       "    }\n",
       "\n",
       "    .dataframe tbody tr th {\n",
       "        vertical-align: top;\n",
       "    }\n",
       "\n",
       "    .dataframe thead th {\n",
       "        text-align: right;\n",
       "    }\n",
       "</style>\n",
       "<table border=\"1\" class=\"dataframe\">\n",
       "  <thead>\n",
       "    <tr style=\"text-align: right;\">\n",
       "      <th></th>\n",
       "      <th>BOROUGH</th>\n",
       "      <th>PRECINCT_NUM</th>\n",
       "      <th>OFFENSE_LEVEL</th>\n",
       "      <th>Latitude</th>\n",
       "      <th>Longitude</th>\n",
       "    </tr>\n",
       "  </thead>\n",
       "  <tbody>\n",
       "    <tr>\n",
       "      <th>0</th>\n",
       "      <td>BROOKLYN</td>\n",
       "      <td>79</td>\n",
       "      <td>FELONY</td>\n",
       "      <td>40.689001</td>\n",
       "      <td>-73.945027</td>\n",
       "    </tr>\n",
       "    <tr>\n",
       "      <th>1</th>\n",
       "      <td>BRONX</td>\n",
       "      <td>42</td>\n",
       "      <td>VIOLATION</td>\n",
       "      <td>40.8288</td>\n",
       "      <td>-73.894664</td>\n",
       "    </tr>\n",
       "    <tr>\n",
       "      <th>2</th>\n",
       "      <td>QUEENS</td>\n",
       "      <td>105</td>\n",
       "      <td>VIOLATION</td>\n",
       "      <td>40.731173</td>\n",
       "      <td>-73.716036</td>\n",
       "    </tr>\n",
       "    <tr>\n",
       "      <th>3</th>\n",
       "      <td>BROOKLYN</td>\n",
       "      <td>68</td>\n",
       "      <td>MISDEMEANOR</td>\n",
       "      <td>40.633899</td>\n",
       "      <td>-74.013008</td>\n",
       "    </tr>\n",
       "    <tr>\n",
       "      <th>4</th>\n",
       "      <td>MANHATTAN</td>\n",
       "      <td>17</td>\n",
       "      <td>MISDEMEANOR</td>\n",
       "      <td>40.752848</td>\n",
       "      <td>-73.971465</td>\n",
       "    </tr>\n",
       "  </tbody>\n",
       "</table>\n",
       "</div>"
      ],
      "text/plain": [
       "     BOROUGH  PRECINCT_NUM OFFENSE_LEVEL   Latitude  Longitude\n",
       "0   BROOKLYN            79        FELONY  40.689001 -73.945027\n",
       "1      BRONX            42     VIOLATION    40.8288 -73.894664\n",
       "2     QUEENS           105     VIOLATION  40.731173 -73.716036\n",
       "3   BROOKLYN            68   MISDEMEANOR  40.633899 -74.013008\n",
       "4  MANHATTAN            17   MISDEMEANOR  40.752848 -73.971465"
      ]
     },
     "execution_count": 13,
     "metadata": {},
     "output_type": "execute_result"
    }
   ],
   "source": [
    "Neighborhood_DF = df[[\"BOROUGH\", \"PRECINCT_NUM\", \"OFFENSE_LEVEL\", \"Latitude\", \"Longitude\"]].copy()\n",
    "Neighborhood_DF.head()"
   ]
  },
  {
   "cell_type": "markdown",
   "id": "01ead139",
   "metadata": {
    "id": "01ead139"
   },
   "source": [
    "#### Dataframe To Analyze The Distribution Of Specific Crime Categories. Ex: violent vs property"
   ]
  },
  {
   "cell_type": "code",
   "execution_count": 14,
   "id": "c300924a",
   "metadata": {
    "colab": {
     "base_uri": "https://localhost:8080/",
     "height": 206
    },
    "id": "c300924a",
    "outputId": "d67fc83b-38cb-47d1-d83d-7cde79268475",
    "scrolled": true
   },
   "outputs": [
    {
     "data": {
      "text/html": [
       "<div>\n",
       "<style scoped>\n",
       "    .dataframe tbody tr th:only-of-type {\n",
       "        vertical-align: middle;\n",
       "    }\n",
       "\n",
       "    .dataframe tbody tr th {\n",
       "        vertical-align: top;\n",
       "    }\n",
       "\n",
       "    .dataframe thead th {\n",
       "        text-align: right;\n",
       "    }\n",
       "</style>\n",
       "<table border=\"1\" class=\"dataframe\">\n",
       "  <thead>\n",
       "    <tr style=\"text-align: right;\">\n",
       "      <th></th>\n",
       "      <th>OFFENSE_LEVEL</th>\n",
       "      <th>OFNS_DESC</th>\n",
       "    </tr>\n",
       "  </thead>\n",
       "  <tbody>\n",
       "    <tr>\n",
       "      <th>0</th>\n",
       "      <td>FELONY</td>\n",
       "      <td>RAPE</td>\n",
       "    </tr>\n",
       "    <tr>\n",
       "      <th>1</th>\n",
       "      <td>VIOLATION</td>\n",
       "      <td>HARRASSMENT 2</td>\n",
       "    </tr>\n",
       "    <tr>\n",
       "      <th>2</th>\n",
       "      <td>VIOLATION</td>\n",
       "      <td>HARRASSMENT 2</td>\n",
       "    </tr>\n",
       "    <tr>\n",
       "      <th>3</th>\n",
       "      <td>MISDEMEANOR</td>\n",
       "      <td>CRIMINAL MISCHIEF &amp; RELATED OF</td>\n",
       "    </tr>\n",
       "    <tr>\n",
       "      <th>4</th>\n",
       "      <td>MISDEMEANOR</td>\n",
       "      <td>PETIT LARCENY</td>\n",
       "    </tr>\n",
       "  </tbody>\n",
       "</table>\n",
       "</div>"
      ],
      "text/plain": [
       "  OFFENSE_LEVEL                       OFNS_DESC\n",
       "0        FELONY                            RAPE\n",
       "1     VIOLATION                   HARRASSMENT 2\n",
       "2     VIOLATION                   HARRASSMENT 2\n",
       "3   MISDEMEANOR  CRIMINAL MISCHIEF & RELATED OF\n",
       "4   MISDEMEANOR                   PETIT LARCENY"
      ]
     },
     "execution_count": 14,
     "metadata": {},
     "output_type": "execute_result"
    }
   ],
   "source": [
    "Crime_DF = df[[\"OFFENSE_LEVEL\", \"OFNS_DESC\"]].copy()\n",
    "Crime_DF.head()"
   ]
  },
  {
   "cell_type": "markdown",
   "id": "733ae7a5",
   "metadata": {
    "id": "733ae7a5"
   },
   "source": [
    "#### Dataframe To Analyze The Groups That Experience The Most Crime. Ex: age, race, etc"
   ]
  },
  {
   "cell_type": "code",
   "execution_count": 15,
   "id": "b504af5a",
   "metadata": {
    "colab": {
     "base_uri": "https://localhost:8080/",
     "height": 206
    },
    "id": "b504af5a",
    "outputId": "1ac1f8a1-5126-4fa6-c638-bce9378fccdc"
   },
   "outputs": [
    {
     "data": {
      "text/html": [
       "<div>\n",
       "<style scoped>\n",
       "    .dataframe tbody tr th:only-of-type {\n",
       "        vertical-align: middle;\n",
       "    }\n",
       "\n",
       "    .dataframe tbody tr th {\n",
       "        vertical-align: top;\n",
       "    }\n",
       "\n",
       "    .dataframe thead th {\n",
       "        text-align: right;\n",
       "    }\n",
       "</style>\n",
       "<table border=\"1\" class=\"dataframe\">\n",
       "  <thead>\n",
       "    <tr style=\"text-align: right;\">\n",
       "      <th></th>\n",
       "      <th>VIC_AGE_GROUP</th>\n",
       "      <th>VIC_RACE</th>\n",
       "      <th>VIC_SEX</th>\n",
       "    </tr>\n",
       "  </thead>\n",
       "  <tbody>\n",
       "    <tr>\n",
       "      <th>0</th>\n",
       "      <td>&lt;18</td>\n",
       "      <td>UNKNOWN</td>\n",
       "      <td>F</td>\n",
       "    </tr>\n",
       "    <tr>\n",
       "      <th>1</th>\n",
       "      <td>45-64</td>\n",
       "      <td>BLACK</td>\n",
       "      <td>M</td>\n",
       "    </tr>\n",
       "    <tr>\n",
       "      <th>2</th>\n",
       "      <td>65+</td>\n",
       "      <td>WHITE</td>\n",
       "      <td>M</td>\n",
       "    </tr>\n",
       "    <tr>\n",
       "      <th>3</th>\n",
       "      <td>45-64</td>\n",
       "      <td>ASIAN / PACIFIC ISLANDER</td>\n",
       "      <td>M</td>\n",
       "    </tr>\n",
       "    <tr>\n",
       "      <th>4</th>\n",
       "      <td>UNKNOWN</td>\n",
       "      <td>UNKNOWN</td>\n",
       "      <td>D</td>\n",
       "    </tr>\n",
       "  </tbody>\n",
       "</table>\n",
       "</div>"
      ],
      "text/plain": [
       "  VIC_AGE_GROUP                  VIC_RACE VIC_SEX\n",
       "0           <18                   UNKNOWN       F\n",
       "1         45-64                     BLACK       M\n",
       "2           65+                     WHITE       M\n",
       "3         45-64  ASIAN / PACIFIC ISLANDER       M\n",
       "4       UNKNOWN                   UNKNOWN       D"
      ]
     },
     "execution_count": 15,
     "metadata": {},
     "output_type": "execute_result"
    }
   ],
   "source": [
    "Victim_DF = df[[\"VIC_AGE_GROUP\", \"VIC_RACE\", \"VIC_SEX\"]].copy()\n",
    "Victim_DF.head()"
   ]
  },
  {
   "cell_type": "markdown",
   "id": "6f785c70",
   "metadata": {
    "id": "6f785c70"
   },
   "source": [
    "### Create New Columns To Aid With Our Objectives"
   ]
  },
  {
   "cell_type": "markdown",
   "id": "48861a64",
   "metadata": {
    "id": "48861a64"
   },
   "source": [
    "#### Create Two New Columns For Month And Hour Of Incident. And Check For Null Values"
   ]
  },
  {
   "cell_type": "code",
   "execution_count": 16,
   "id": "406cb0a5",
   "metadata": {
    "colab": {
     "base_uri": "https://localhost:8080/",
     "height": 512
    },
    "id": "406cb0a5",
    "outputId": "6c5a29cf-c59d-4002-88bb-9bad1665e264"
   },
   "outputs": [
    {
     "name": "stdout",
     "output_type": "stream",
     "text": [
      "Unique Months: ['02' '01' '03' '12' '10' '07' '06' '11' '09' '04' '08' '05']\n",
      "\n",
      "Unique Hours: ['07' '12' '08' '11' '21' '14' '04' '15' '23' '02' '13' '09' '17' '01'\n",
      " '16' '10' '22' '19' '18' '20' '00' '06' '05' '03']\n"
     ]
    },
    {
     "data": {
      "text/html": [
       "<div>\n",
       "<style scoped>\n",
       "    .dataframe tbody tr th:only-of-type {\n",
       "        vertical-align: middle;\n",
       "    }\n",
       "\n",
       "    .dataframe tbody tr th {\n",
       "        vertical-align: top;\n",
       "    }\n",
       "\n",
       "    .dataframe thead th {\n",
       "        text-align: right;\n",
       "    }\n",
       "</style>\n",
       "<table border=\"1\" class=\"dataframe\">\n",
       "  <thead>\n",
       "    <tr style=\"text-align: right;\">\n",
       "      <th></th>\n",
       "      <th>COMPLAINT_START_DATE</th>\n",
       "      <th>COMPLAINT_START_TIME</th>\n",
       "      <th>OFFENSE_LEVEL</th>\n",
       "      <th>INCIDENT_MONTH</th>\n",
       "      <th>INCIDENT_HOUR</th>\n",
       "    </tr>\n",
       "  </thead>\n",
       "  <tbody>\n",
       "    <tr>\n",
       "      <th>0</th>\n",
       "      <td>02/15/2024</td>\n",
       "      <td>07:20:00</td>\n",
       "      <td>FELONY</td>\n",
       "      <td>02</td>\n",
       "      <td>07</td>\n",
       "    </tr>\n",
       "    <tr>\n",
       "      <th>1</th>\n",
       "      <td>02/25/2024</td>\n",
       "      <td>12:24:00</td>\n",
       "      <td>VIOLATION</td>\n",
       "      <td>02</td>\n",
       "      <td>12</td>\n",
       "    </tr>\n",
       "    <tr>\n",
       "      <th>2</th>\n",
       "      <td>01/16/2024</td>\n",
       "      <td>08:00:00</td>\n",
       "      <td>VIOLATION</td>\n",
       "      <td>01</td>\n",
       "      <td>08</td>\n",
       "    </tr>\n",
       "    <tr>\n",
       "      <th>3</th>\n",
       "      <td>03/25/2024</td>\n",
       "      <td>11:16:00</td>\n",
       "      <td>MISDEMEANOR</td>\n",
       "      <td>03</td>\n",
       "      <td>11</td>\n",
       "    </tr>\n",
       "    <tr>\n",
       "      <th>4</th>\n",
       "      <td>02/12/2024</td>\n",
       "      <td>12:35:00</td>\n",
       "      <td>MISDEMEANOR</td>\n",
       "      <td>02</td>\n",
       "      <td>12</td>\n",
       "    </tr>\n",
       "  </tbody>\n",
       "</table>\n",
       "</div>"
      ],
      "text/plain": [
       "  COMPLAINT_START_DATE COMPLAINT_START_TIME OFFENSE_LEVEL INCIDENT_MONTH  \\\n",
       "0           02/15/2024             07:20:00        FELONY             02   \n",
       "1           02/25/2024             12:24:00     VIOLATION             02   \n",
       "2           01/16/2024             08:00:00     VIOLATION             01   \n",
       "3           03/25/2024             11:16:00   MISDEMEANOR             03   \n",
       "4           02/12/2024             12:35:00   MISDEMEANOR             02   \n",
       "\n",
       "  INCIDENT_HOUR  \n",
       "0            07  \n",
       "1            12  \n",
       "2            08  \n",
       "3            11  \n",
       "4            12  "
      ]
     },
     "execution_count": 16,
     "metadata": {},
     "output_type": "execute_result"
    }
   ],
   "source": [
    "# Split Complaint_Start_Date and Complaint_Start_Time and return the first field to get Month and Hour\n",
    "Location_Time_DF[\"INCIDENT_MONTH\"] = Location_Time_DF[\"COMPLAINT_START_DATE\"].apply(lambda x: x.split(\"/\")[0])\n",
    "Location_Time_DF[\"INCIDENT_HOUR\"] = Location_Time_DF[\"COMPLAINT_START_TIME\"].apply(lambda x: x.split(\":\")[0])\n",
    "\n",
    "print(\"Unique Months:\", Location_Time_DF[\"INCIDENT_MONTH\"].unique())\n",
    "print(\"\\nUnique Hours:\", Location_Time_DF[\"INCIDENT_HOUR\"].unique())\n",
    "\n",
    "Location_Time_DF.head()"
   ]
  },
  {
   "cell_type": "markdown",
   "id": "e82afd68",
   "metadata": {
    "id": "e82afd68"
   },
   "source": [
    "#### List Unique Values of \"OFNS_DESC\""
   ]
  },
  {
   "cell_type": "code",
   "execution_count": 17,
   "id": "4aa147a9",
   "metadata": {
    "colab": {
     "base_uri": "https://localhost:8080/"
    },
    "id": "4aa147a9",
    "outputId": "1b5d8a9c-9451-4638-8e82-3d4a849019f8"
   },
   "outputs": [
    {
     "name": "stdout",
     "output_type": "stream",
     "text": [
      "['RAPE' 'HARRASSMENT 2' 'CRIMINAL MISCHIEF & RELATED OF' 'PETIT LARCENY'\n",
      " 'FELONY ASSAULT' 'OFFENSES AGAINST PUBLIC ADMINI'\n",
      " 'MURDER & NON-NEGL. MANSLAUGHTER' 'GRAND LARCENY'\n",
      " 'ASSAULT 3 & RELATED OFFENSES' 'POSSESSION OF STOLEN PROPERTY'\n",
      " 'GRAND LARCENY OF MOTOR VEHICLE' 'DANGEROUS WEAPONS' 'CRIMINAL TRESPASS'\n",
      " 'OFF. AGNST PUB ORD SENSBLTY &' 'NYS LAWS-UNCLASSIFIED FELONY' 'FRAUDS'\n",
      " 'OFFENSES INVOLVING FRAUD' 'SEX CRIMES' 'OTHER STATE LAWS (NON PENAL LA'\n",
      " 'FORGERY' 'ROBBERY' 'DANGEROUS DRUGS' 'ARSON' 'MISCELLANEOUS PENAL LAW'\n",
      " 'VEHICLE AND TRAFFIC LAWS' 'BURGLARY' 'CANNABIS RELATED OFFENSES'\n",
      " 'ADMINISTRATIVE CODE' 'OFFENSES AGAINST THE PERSON' 'OTHER STATE LAWS'\n",
      " 'OFFENSES AGAINST PUBLIC SAFETY' 'ESCAPE 3' 'GAMBLING' 'THEFT-FRAUD'\n",
      " 'AGRICULTURE & MRKTS LAW-UNCLASSIFIED' 'KIDNAPPING & RELATED OFFENSES'\n",
      " 'PETIT LARCENY OF MOTOR VEHICLE' 'ENDAN WELFARE INCOMP'\n",
      " 'FRAUDULENT ACCOSTING' 'PROSTITUTION & RELATED OFFENSES'\n",
      " 'INTOXICATED & IMPAIRED DRIVING' 'JOSTLING'\n",
      " 'CHILD ABANDONMENT/NON SUPPORT' \"BURGLAR'S TOOLS\"\n",
      " 'UNAUTHORIZED USE OF A VEHICLE' 'ANTICIPATORY OFFENSES'\n",
      " 'DISORDERLY CONDUCT' 'DISRUPTION OF A RELIGIOUS SERV' 'THEFT OF SERVICES'\n",
      " 'OTHER OFFENSES RELATED TO THEF' 'UNLAWFUL POSS. WEAP. ON SCHOOL'\n",
      " 'ALCOHOLIC BEVERAGE CONTROL LAW' 'FELONY SEX CRIMES'\n",
      " 'HOMICIDE-NEGLIGENT,UNCLASSIFIE' '(null)' 'FORTUNE TELLING' 'KIDNAPPING'\n",
      " 'NYS LAWS-UNCLASSIFIED VIOLATION' 'INTOXICATED/IMPAIRED DRIVING'\n",
      " 'OFFENSES RELATED TO CHILDREN']\n"
     ]
    }
   ],
   "source": [
    "print(Crime_DF[\"OFNS_DESC\"].unique())"
   ]
  },
  {
   "cell_type": "markdown",
   "id": "bd4c5ba8",
   "metadata": {
    "id": "bd4c5ba8"
   },
   "source": [
    "#### Create New Column That Says Whether A Crime Was Violent Or Not"
   ]
  },
  {
   "cell_type": "code",
   "execution_count": 18,
   "id": "5f404a5b",
   "metadata": {
    "colab": {
     "base_uri": "https://localhost:8080/",
     "height": 333
    },
    "id": "5f404a5b",
    "outputId": "d5b34b1b-e34f-486f-c46b-9e1381d4b632"
   },
   "outputs": [
    {
     "data": {
      "text/html": [
       "<div>\n",
       "<style scoped>\n",
       "    .dataframe tbody tr th:only-of-type {\n",
       "        vertical-align: middle;\n",
       "    }\n",
       "\n",
       "    .dataframe tbody tr th {\n",
       "        vertical-align: top;\n",
       "    }\n",
       "\n",
       "    .dataframe thead th {\n",
       "        text-align: right;\n",
       "    }\n",
       "</style>\n",
       "<table border=\"1\" class=\"dataframe\">\n",
       "  <thead>\n",
       "    <tr style=\"text-align: right;\">\n",
       "      <th></th>\n",
       "      <th>OFFENSE_LEVEL</th>\n",
       "      <th>OFNS_DESC</th>\n",
       "      <th>Crime_Category</th>\n",
       "    </tr>\n",
       "  </thead>\n",
       "  <tbody>\n",
       "    <tr>\n",
       "      <th>0</th>\n",
       "      <td>FELONY</td>\n",
       "      <td>RAPE</td>\n",
       "      <td>Violent</td>\n",
       "    </tr>\n",
       "    <tr>\n",
       "      <th>1</th>\n",
       "      <td>VIOLATION</td>\n",
       "      <td>HARRASSMENT 2</td>\n",
       "      <td>Violent</td>\n",
       "    </tr>\n",
       "    <tr>\n",
       "      <th>2</th>\n",
       "      <td>VIOLATION</td>\n",
       "      <td>HARRASSMENT 2</td>\n",
       "      <td>Violent</td>\n",
       "    </tr>\n",
       "    <tr>\n",
       "      <th>3</th>\n",
       "      <td>MISDEMEANOR</td>\n",
       "      <td>CRIMINAL MISCHIEF &amp; RELATED OF</td>\n",
       "      <td>Non-Violent</td>\n",
       "    </tr>\n",
       "    <tr>\n",
       "      <th>4</th>\n",
       "      <td>MISDEMEANOR</td>\n",
       "      <td>PETIT LARCENY</td>\n",
       "      <td>Non-Violent</td>\n",
       "    </tr>\n",
       "  </tbody>\n",
       "</table>\n",
       "</div>"
      ],
      "text/plain": [
       "  OFFENSE_LEVEL                       OFNS_DESC Crime_Category\n",
       "0        FELONY                            RAPE        Violent\n",
       "1     VIOLATION                   HARRASSMENT 2        Violent\n",
       "2     VIOLATION                   HARRASSMENT 2        Violent\n",
       "3   MISDEMEANOR  CRIMINAL MISCHIEF & RELATED OF    Non-Violent\n",
       "4   MISDEMEANOR                   PETIT LARCENY    Non-Violent"
      ]
     },
     "execution_count": 18,
     "metadata": {},
     "output_type": "execute_result"
    }
   ],
   "source": [
    "# if crime in overlap then it will be \"NONE, else if in nonviolent it will be \"NON-VIOLENT\", \n",
    "# else it will be \"VIOLENT\"\n",
    "nonviolent_crimes = [\n",
    "    \"CRIMINAL MISCHIEF & RELATED OF\", \"PETIT LARCENY\", \"OFFENSES AGAINST PUBLIC ADMINI\", \"GRAND LARCENY\",\n",
    "    \"POSSESSION OF STOLEN PROPERTY\", \"GRAND LARCENY OF MOTOR VEHICLE\", \"CRIMINAL TRESPASS\",\n",
    "    \"OFF. AGNST PUB ORD SENSBLTY &\", \"FRAUDS\", \"OFFENSES INVOLVING FRAUD\", \"FORGERY\", \"DANGEROUS DRUGS\",\n",
    "    \"VEHICLE AND TRAFFIC LAWS\", \"CANNABIS RELATED OFFENSES\", \"ADMINISTRATIVE CODE\", \"ESCAPE 3\",\n",
    "    \"GAMBLING\", \"THEFT-FRAUD\", \"AGRICULTURE & MRKTS LAW-UNCLASSIFIED\", \"PETIT LARCENY OF MOTOR VEHICLE\",\n",
    "    \"ENDAN WELFARE INCOMP\", \"FRAUDULENT ACCOSTING\", \"PROSTITUTION & RELATED OFFENSES\",\n",
    "    \"CHILD ABANDONMENT/NON SUPPORT\", \"BURGLAR'S TOOLS\", \"UNAUTHORIZED USE OF A VEHICLE\",\n",
    "    \"DISRUPTION OF A RELIGIOUS SERV\", \"THEFT OF SERVICES\", \"OTHER OFFENSES RELATED TO THEF\",\n",
    "    \"ALCOHOLIC BEVERAGE CONTROL LAW\", \"FORTUNE TELLING\", \"\"\n",
    "]\n",
    "\n",
    "overlap_crimes = [\n",
    "    \"NYS LAWS-UNCLASSIFIED FELONY\", \"OTHER STATE LAWS (NON PENAL LA\", \"MISCELLANEOUS PENAL LAW\",\n",
    "    \"BURGLARY\", \"OTHER STATE LAWS\", \"ANTICIPATORY OFFENSES\", \"DISORDERLY CONDUCT\", \"NYS LAWS-UNCLASSIFIED VIOLATION\",\n",
    "    \"INTOXICATED/IMPAIRED DRIVING\", \"INTOXICATED & IMPAIRED DRIVING\", \"(null)\"\n",
    "]\n",
    "\n",
    "# function to categorize \"OFNS_DESC\" in a new column\n",
    "def categorize(offense):\n",
    "    if offense in nonviolent_crimes:\n",
    "        return \"Non-Violent\"\n",
    "    elif offense in overlap_crimes:\n",
    "        return \"None\"\n",
    "    else:\n",
    "        return \"Violent\"\n",
    "\n",
    "Crime_DF[\"Crime_Category\"] = Crime_DF[\"OFNS_DESC\"].apply(categorize)\n",
    "Crime_DF.head()"
   ]
  },
  {
   "cell_type": "markdown",
   "id": "8718e8ae",
   "metadata": {},
   "source": [
    "# Visualizations"
   ]
  },
  {
   "cell_type": "markdown",
   "id": "c757d992",
   "metadata": {},
   "source": [
    "## Analyze when crimes in NYC take place"
   ]
  },
  {
   "cell_type": "code",
   "execution_count": 19,
   "id": "8-sXqN5lG2ls",
   "metadata": {
    "colab": {
     "base_uri": "https://localhost:8080/",
     "height": 1000
    },
    "id": "8-sXqN5lG2ls",
    "outputId": "c4590088-421a-4345-8363-3f922e3352c0"
   },
   "outputs": [
    {
     "data": {
      "image/png": "[encoded data removed]",
      "text/plain": [
       "<Figure size 1000x600 with 1 Axes>"
      ]
     },
     "metadata": {},
     "output_type": "display_data"
    },
    {
     "data": {
      "image/png": "[encoded data removed]",
      "text/plain": [
       "<Figure size 1200x800 with 2 Axes>"
      ]
     },
     "metadata": {},
     "output_type": "display_data"
    }
   ],
   "source": [
    "# Create a bar chart to visualize the number of crimes per month\n",
    "plt.figure(figsize=(10, 6))\n",
    "sns.countplot(data=Location_Time_DF, x='INCIDENT_MONTH', order=sorted(Location_Time_DF['INCIDENT_MONTH'].unique()))\n",
    "plt.xlabel('Month')\n",
    "plt.ylabel('Number of Crimes')\n",
    "plt.title('Number of Crimes per Month')\n",
    "plt.show()\n",
    "\n",
    "# Create a heatmap to visualize the number of crimes by hour and offense level\n",
    "plt.figure(figsize=(12, 8))\n",
    "sns.heatmap(Location_Time_DF.pivot_table(index='INCIDENT_HOUR', columns='OFFENSE_LEVEL', values='COMPLAINT_START_TIME', aggfunc='count'), cmap='YlOrRd', annot=True, fmt='d')\n",
    "plt.xlabel('Offense Level')\n",
    "plt.ylabel('Hour')\n",
    "plt.title('Number of Crimes by Hour and Offense Level')\n",
    "plt.show()"
   ]
  },
  {
   "cell_type": "markdown",
   "id": "5e537932",
   "metadata": {},
   "source": [
    "## Examine which boroughs experience a higher crime rate\n"
   ]
  },
  {
   "cell_type": "code",
   "execution_count": 20,
   "id": "5s9QeH1kIHV-",
   "metadata": {
    "colab": {
     "base_uri": "https://localhost:8080/",
     "height": 636
    },
    "id": "5s9QeH1kIHV-",
    "outputId": "1fbd99fc-15a7-4e64-b187-5b52553157a8"
   },
   "outputs": [
    {
     "data": {
      "image/png": "[encoded data removed]",
      "text/plain": [
       "<Figure size 1000x600 with 1 Axes>"
      ]
     },
     "metadata": {},
     "output_type": "display_data"
    }
   ],
   "source": [
    "# Create a bar chart to compare the number of crimes per borough\n",
    "plt.figure(figsize=(10, 6))\n",
    "sns.countplot(data=Neighborhood_DF, x='BOROUGH')\n",
    "plt.xlabel('Borough')\n",
    "plt.ylabel('Number of Crimes')\n",
    "plt.title('Number of Crimes per Borough')\n",
    "plt.xticks(rotation=45)\n",
    "plt.show()"
   ]
  },
  {
   "cell_type": "markdown",
   "id": "7b94d284",
   "metadata": {},
   "source": [
    "## Analyze the distribution of specific crime categories. Ex violent vs property"
   ]
  },
  {
   "cell_type": "code",
   "execution_count": 21,
   "id": "YhuAWZQOIWns",
   "metadata": {
    "colab": {
     "base_uri": "https://localhost:8080/",
     "height": 1000
    },
    "id": "YhuAWZQOIWns",
    "outputId": "f6c95a74-cfca-479a-90d4-50261b3df5cf"
   },
   "outputs": [
    {
     "data": {
      "image/png": "[encoded data removed]",
      "text/plain": [
       "<Figure size 800x800 with 1 Axes>"
      ]
     },
     "metadata": {},
     "output_type": "display_data"
    },
    {
     "data": {
      "image/png": "[encoded data removed]",
      "text/plain": [
       "<Figure size 1000x600 with 1 Axes>"
      ]
     },
     "metadata": {},
     "output_type": "display_data"
    }
   ],
   "source": [
    "# Create a pie chart to show the proportion of violent and non-violent crimes\n",
    "plt.figure(figsize=(8, 8))\n",
    "Crime_DF['Crime_Category'].value_counts().plot(kind='pie', autopct='%1.1f%%')\n",
    "plt.title('Distribution of Violent and Non-Violent Crimes')\n",
    "plt.ylabel('')\n",
    "plt.show()\n",
    "\n",
    "# Analyze the relationship between offense level and crime category using a stacked bar chart\n",
    "plt.figure(figsize=(10, 6))\n",
    "sns.countplot(data=Crime_DF, x='OFFENSE_LEVEL', hue='Crime_Category')\n",
    "plt.xlabel('Offense Level')\n",
    "plt.ylabel('Number of Crimes')\n",
    "plt.title('Relationship between Offense Level and Crime Category')\n",
    "plt.show()"
   ]
  },
  {
   "cell_type": "markdown",
   "id": "bc0da9d6",
   "metadata": {},
   "source": [
    "## Analyze the groups that experience the most crime. Ex: age and race"
   ]
  },
  {
   "cell_type": "code",
   "execution_count": 22,
   "id": "zhxt6bW8Iixk",
   "metadata": {
    "colab": {
     "base_uri": "https://localhost:8080/",
     "height": 1000
    },
    "id": "zhxt6bW8Iixk",
    "outputId": "aa315397-d41b-47f7-bc38-ccb15bde17c1"
   },
   "outputs": [
    {
     "data": {
      "image/png": "[encoded data removed]",
      "text/plain": [
       "<Figure size 1000x600 with 1 Axes>"
      ]
     },
     "metadata": {},
     "output_type": "display_data"
    },
    {
     "data": {
      "image/png": "[encoded data removed]",
      "text/plain": [
       "<Figure size 1000x600 with 1 Axes>"
      ]
     },
     "metadata": {},
     "output_type": "display_data"
    }
   ],
   "source": [
    "# Create a bar chart to show the number of crimes per age group\n",
    "plt.figure(figsize=(10, 6))\n",
    "sns.countplot(data=Victim_DF, x='VIC_AGE_GROUP', order=sorted(Victim_DF['VIC_AGE_GROUP'].unique()))\n",
    "plt.xlabel('Age Group')\n",
    "plt.ylabel('Number of Crimes')\n",
    "plt.title('Number of Crimes per Age Group')\n",
    "plt.xticks(rotation=45)\n",
    "plt.show()\n",
    "\n",
    "# Create a stacked bar chart to visualize the distribution of crimes by race and sex\n",
    "plt.figure(figsize=(10, 6))\n",
    "sns.countplot(data=Victim_DF, x='VIC_RACE', hue='VIC_SEX')\n",
    "plt.xlabel('Race')\n",
    "plt.ylabel('Number of Crimes')\n",
    "plt.title('Distribution of Crimes by Race and Sex')\n",
    "plt.xticks(rotation=45)\n",
    "plt.show()"
   ]
  },
  {
   "cell_type": "markdown",
   "id": "a1adb001",
   "metadata": {},
   "source": [
    "## Information about complaints in New York City"
   ]
  },
  {
   "cell_type": "code",
   "execution_count": 23,
   "id": "9iwORPuHIlVH",
   "metadata": {
    "colab": {
     "base_uri": "https://localhost:8080/"
    },
    "id": "9iwORPuHIlVH",
    "outputId": "43fb1bc8-6f0e-4409-9743-81e718a1eb46"
   },
   "outputs": [
    {
     "name": "stdout",
     "output_type": "stream",
     "text": [
      "Top 10 Offenses by Count:\n",
      "                          Offense  Count\n",
      "0                   PETIT LARCENY  26487\n",
      "1                   HARRASSMENT 2  20136\n",
      "2    ASSAULT 3 & RELATED OFFENSES  14247\n",
      "3                   GRAND LARCENY  11639\n",
      "4  CRIMINAL MISCHIEF & RELATED OF   9417\n",
      "5        VEHICLE AND TRAFFIC LAWS   6538\n",
      "6                  FELONY ASSAULT   6417\n",
      "7   OFF. AGNST PUB ORD SENSBLTY &   4519\n",
      "8         MISCELLANEOUS PENAL LAW   4441\n",
      "9                         ROBBERY   3948\n"
     ]
    }
   ],
   "source": [
    "# Create a table to show the top 10 offenses by count\n",
    "top_offenses = Crime_DF['OFNS_DESC'].value_counts().head(10)\n",
    "top_offenses_table = pd.DataFrame({'Offense': top_offenses.index, 'Count': top_offenses.values})\n",
    "print(\"Top 10 Offenses by Count:\")\n",
    "print(top_offenses_table)"
   ]
  },
  {
   "cell_type": "code",
   "execution_count": 24,
   "id": "fESPizaDIyF_",
   "metadata": {
    "colab": {
     "base_uri": "https://localhost:8080/"
    },
    "id": "fESPizaDIyF_",
    "outputId": "90f17bdc-b64f-44ae-b250-9ec60edbdfe1"
   },
   "outputs": [
    {
     "name": "stdout",
     "output_type": "stream",
     "text": [
      "Crime Counts by Borough and Offense Level:\n",
      "OFFENSE_LEVEL  FELONY  MISDEMEANOR  VIOLATION\n",
      "BOROUGH                                      \n",
      "BRONX           10103        15093       4795\n",
      "BROOKLYN        12321        19300       6209\n",
      "MANHATTAN       10413        17687       4467\n",
      "No Info             1            5          1\n",
      "QUEENS           9981        16252       4444\n",
      "STATEN ISLAND    1634         3423       1141\n"
     ]
    }
   ],
   "source": [
    "# Create a table to show the crime counts by borough and offense level\n",
    "borough_offense_level = pd.crosstab(Neighborhood_DF['BOROUGH'], Neighborhood_DF['OFFENSE_LEVEL'])\n",
    "print(\"Crime Counts by Borough and Offense Level:\")\n",
    "print(borough_offense_level)"
   ]
  },
  {
   "cell_type": "code",
   "execution_count": 25,
   "id": "LjW8KXXJIzps",
   "metadata": {
    "colab": {
     "base_uri": "https://localhost:8080/"
    },
    "id": "LjW8KXXJIzps",
    "outputId": "b0a69fec-482f-464f-cdb7-bd0e75f86067"
   },
   "outputs": [
    {
     "name": "stdout",
     "output_type": "stream",
     "text": [
      "Crime Counts by Victim Age Group and Sex:\n",
      "VIC_SEX            D      E      F      M   NA\n",
      "VIC_AGE_GROUP                                 \n",
      "18-24              3      0   6061   4439  118\n",
      "25-44              4      1  24525  20908  730\n",
      "45-64              2      1  11566  12041   81\n",
      "65+                1      0   3309   3227    2\n",
      "<18                0      0   3149   2429    0\n",
      "UNKNOWN        22659  19006   1102   1717  189\n"
     ]
    }
   ],
   "source": [
    "# Create a table to show the crime counts by victim age group and sex\n",
    "age_group_sex = pd.crosstab(Victim_DF['VIC_AGE_GROUP'], Victim_DF['VIC_SEX'])\n",
    "print(\"Crime Counts by Victim Age Group and Sex:\")\n",
    "print(age_group_sex)"
   ]
  },
  {
   "cell_type": "code",
   "execution_count": 26,
   "id": "yxlilSzPI14_",
   "metadata": {
    "colab": {
     "base_uri": "https://localhost:8080/"
    },
    "id": "yxlilSzPI14_",
    "outputId": "de5b946b-b014-47a9-f32f-d871930185ff"
   },
   "outputs": [
    {
     "name": "stdout",
     "output_type": "stream",
     "text": [
      "Crime Counts by Crime Category and Offense Level:\n",
      "OFFENSE_LEVEL   FELONY  MISDEMEANOR  VIOLATION\n",
      "Crime_Category                                \n",
      "Non-Violent      23866        53279        464\n",
      "None              7919          981        453\n",
      "Violent          12668        17500      20140\n"
     ]
    }
   ],
   "source": [
    "# Create a table to show the crime counts by crime category and offense level\n",
    "category_offense_level = pd.crosstab(Crime_DF['Crime_Category'], Crime_DF['OFFENSE_LEVEL'])\n",
    "print(\"Crime Counts by Crime Category and Offense Level:\")\n",
    "print(category_offense_level)"
   ]
  },
  {
   "cell_type": "markdown",
   "id": "2a6d664f",
   "metadata": {},
   "source": [
    "## Machine Learning Model"
   ]
  },
  {
   "cell_type": "code",
   "execution_count": 27,
   "id": "95PVQsdNJPOX",
   "metadata": {
    "colab": {
     "base_uri": "https://localhost:8080/"
    },
    "id": "95PVQsdNJPOX",
    "outputId": "b710faf5-47aa-42c5-efb4-5fb07bfcf967"
   },
   "outputs": [
    {
     "name": "stdout",
     "output_type": "stream",
     "text": [
      "Accuracy: 0.5715378451227507\n",
      "Classification Report:\n"
     ]
    },
    {
     "name": "stderr",
     "output_type": "stream",
     "text": [
      "/Users/angelserrano/anaconda3/lib/python3.11/site-packages/sklearn/metrics/_classification.py:1469: UndefinedMetricWarning: Precision and F-score are ill-defined and being set to 0.0 in labels with no predicted samples. Use `zero_division` parameter to control this behavior.\n",
      "  _warn_prf(average, modifier, msg_start, len(result))\n",
      "/Users/angelserrano/anaconda3/lib/python3.11/site-packages/sklearn/metrics/_classification.py:1469: UndefinedMetricWarning: Precision and F-score are ill-defined and being set to 0.0 in labels with no predicted samples. Use `zero_division` parameter to control this behavior.\n",
      "  _warn_prf(average, modifier, msg_start, len(result))\n"
     ]
    },
    {
     "name": "stdout",
     "output_type": "stream",
     "text": [
      "              precision    recall  f1-score   support\n",
      "\n",
      " Non-Violent       0.58      0.93      0.71     15560\n",
      "        None       0.00      0.00      0.00      1874\n",
      "     Violent       0.49      0.12      0.19     10020\n",
      "\n",
      "    accuracy                           0.57     27454\n",
      "   macro avg       0.36      0.35      0.30     27454\n",
      "weighted avg       0.51      0.57      0.47     27454\n",
      "\n",
      "Predictions for New Data:\n",
      "['Non-Violent' 'Non-Violent' 'Non-Violent']\n"
     ]
    },
    {
     "name": "stderr",
     "output_type": "stream",
     "text": [
      "/Users/angelserrano/anaconda3/lib/python3.11/site-packages/sklearn/metrics/_classification.py:1469: UndefinedMetricWarning: Precision and F-score are ill-defined and being set to 0.0 in labels with no predicted samples. Use `zero_division` parameter to control this behavior.\n",
      "  _warn_prf(average, modifier, msg_start, len(result))\n"
     ]
    }
   ],
   "source": [
    "from sklearn.model_selection import train_test_split\n",
    "from sklearn.preprocessing import LabelEncoder\n",
    "from sklearn.ensemble import RandomForestClassifier\n",
    "from sklearn.metrics import accuracy_score, classification_report\n",
    "\n",
    "\n",
    "data = Crime_DF.copy()\n",
    "data = data.merge(Neighborhood_DF[['BOROUGH', 'PRECINCT_NUM']], left_index=True, right_index=True)\n",
    "\n",
    "features = ['BOROUGH', 'PRECINCT_NUM']\n",
    "target = 'Crime_Category'\n",
    "\n",
    "label_encoder = LabelEncoder()\n",
    "for feature in features:\n",
    "    if data[feature].dtype == 'object':\n",
    "        data[feature] = label_encoder.fit_transform(data[feature])\n",
    "\n",
    "X = data[features]\n",
    "y = data[target]\n",
    "X_train, X_test, y_train, y_test = train_test_split(X, y, test_size=0.2, random_state=42)\n",
    "\n",
    "rf_model = RandomForestClassifier(n_estimators=100, random_state=42)\n",
    "rf_model.fit(X_train, y_train)\n",
    "\n",
    "\n",
    "y_pred = rf_model.predict(X_test)\n",
    "\n",
    "accuracy = accuracy_score(y_test, y_pred)\n",
    "print(\"Accuracy:\", accuracy)\n",
    "print(\"Classification Report:\")\n",
    "print(classification_report(y_test, y_pred))\n",
    "new_data = pd.DataFrame({\n",
    "    'BOROUGH': ['MANHATTAN', 'BROOKLYN', 'QUEENS'],\n",
    "    'PRECINCT_NUM': [17, 79, 105]\n",
    "})\n",
    "for feature in features:\n",
    "    if new_data[feature].dtype == 'object':\n",
    "        new_data[feature] = label_encoder.transform(new_data[feature])\n",
    "new_predictions = rf_model.predict(new_data)\n",
    "print(\"Predictions for New Data:\")\n",
    "print(new_predictions)"
   ]
  },
  {
   "cell_type": "markdown",
   "id": "9e529b8a",
   "metadata": {},
   "source": [
    "# Analysis Process"
   ]
  },
  {
   "cell_type": "markdown",
   "id": "db602d12",
   "metadata": {},
   "source": [
    "- ### We first read the csv file of the complaints into a dataframe.\n",
    "- ### Then, we preprocessed the data by renaming columns to make them more descriptive.\n",
    "- ### We then identified unique values to replace null/invalid values in the dataframe for the columns we will be working with. \n",
    "- ### After replacing invalid values, we created smaller dataframes to address our objectives.\n",
    "- ### For two of our smaller dataframes, we needed the month, hour, and if the crime was violent or not so we wrote code to extract these values and made new columns with them.\n",
    "- ### We then created visuals to address our objectives, which will be discussed in more detail in our conclusion.\n",
    "- ### Lastly, we used statistics to answer some questions about complaints in New York City."
   ]
  },
  {
   "cell_type": "markdown",
   "id": "5f9a33e8",
   "metadata": {
    "id": "DDHPpKTaKIaP"
   },
   "source": [
    "# Conclusion"
   ]
  },
  {
   "cell_type": "markdown",
   "id": "99c0af2f",
   "metadata": {},
   "source": [
    "## Analyze when crimes in NYC take place\n",
    "\n",
    "### In our first visualization (bar chart), we can see the number of complaints reported in each month.\n",
    "- The number of complaints is heavily skewed towards the beginning in January, February, and March. \n",
    "- This suggests that there may be an issue with how complaint data was recorded resulting in the first 3 months of the year being overrepresented in this dataset. \n",
    "\n",
    "***\n",
    "\n",
    "### In our second visualization (heatmap), we can see the number of complaints reported at each hour of the day seperated by offense level (Felony, Misdemeanor, Violation.\n",
    "- From this heatmap we see that Complaint reports peak during mid afternoon to early evening hours with the most complaints recorded from 3PM to 7PM for all offense levels.\n",
    "- Although violations show a more even distribution for all hours, complaints still peak during mid afternoon to early evening hours.\n",
    "- This distribution across all offense levels can be due to: increased activity in public as people leave school and leave work at this time. This could also be the times where people go out with friends and have other social interactions which may cause an increase in crime complaints."
   ]
  }
 ],
 "metadata": {
  "colab": {
   "provenance": []
  },
  "kernelspec": {
   "display_name": "Python 3 (ipykernel)",
   "language": "python",
   "name": "python3"
  },
  "language_info": {
   "codemirror_mode": {
    "name": "ipython",
    "version": 3
   },
   "file_extension": ".py",
   "mimetype": "text/x-python",
   "name": "python",
   "nbconvert_exporter": "python",
   "pygments_lexer": "ipython3",
   "version": "3.11.5"
  },
  "widgets": {
   "application/vnd.jupyter.widget-state+json": {
    "state": {},
    "version_major": 2,
    "version_minor": 0
   }
  }
 },
 "nbformat": 4,
 "nbformat_minor": 5
}
